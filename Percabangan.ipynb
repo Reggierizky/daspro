{
 "cells": [
  {
   "cell_type": "code",
   "execution_count": 20,
   "id": "b9a03904-80ed-4200-a959-70218f54c777",
   "metadata": {},
   "outputs": [
    {
     "name": "stdin",
     "output_type": "stream",
     "text": [
      "Isikan Umur Pengguna 19\n"
     ]
    },
    {
     "name": "stdout",
     "output_type": "stream",
     "text": [
      "kategori :Dewasa\n"
     ]
    }
   ],
   "source": [
    "umur = int(input(\"Isikan Umur Pengguna\"))\n",
    "if umur > 59:\n",
    "    kategori = \"Lansia\"\n",
    "elif umur > 17:\n",
    "    kategori =\"Dewasa\"\n",
    "elif umur > 12:\n",
    "    kategori =\"Remaja\"\n",
    "elif umur >=0:\n",
    "    kategori =\"Anak anak\"\n",
    "else:\n",
    "    kategori =\"Umur tidak valid\"\n",
    "\n",
    "print(f\"kategori :{kategori}\")"
   ]
  },
  {
   "cell_type": "code",
   "execution_count": null,
   "id": "eb33c502-0e30-4d99-81dc-ea249111d303",
   "metadata": {},
   "outputs": [],
   "source": []
  },
  {
   "cell_type": "code",
   "execution_count": 38,
   "id": "9a930262-5256-462a-8dde-f9f5aa70fc29",
   "metadata": {},
   "outputs": [
    {
     "name": "stdin",
     "output_type": "stream",
     "text": [
      "Isikan Umur Pengunjung: 11\n",
      "Isikan Umur Pengunjung: 11\n",
      "Isikan Umur Pengunjung: 11\n"
     ]
    },
    {
     "name": "stdout",
     "output_type": "stream",
     "text": [
      "tiket 1: Tiket Anak anak| harga10000\n",
      "tiket 2: Tiket Anak anak| harga10000\n",
      "tiket 3: Tiket Anak anak| harga10000\n",
      "total yang harus dibayar: 30000\n"
     ]
    }
   ],
   "source": [
    "tiket1 = int(input(\"Isikan Umur Pengunjung:\"))\n",
    "tiket2 = int(input(\"Isikan Umur Pengunjung:\"))\n",
    "tiket3 = int(input(\"Isikan Umur Pengunjung:\"))\n",
    "total = 0\n",
    "if tiket1 > 59:\n",
    "    keterangan1 = \"Tiket Lansia\"\n",
    "    harga1 = 0\n",
    "    total += harga\n",
    "elif tiket1 > 17:\n",
    "    keterangan1 = \"Tiket Dewasa\"\n",
    "    harga1 = 25_000\n",
    "elif tiket1 > 12:\n",
    "    keterangan1 = \"Tiket Remaja\"\n",
    "    harga1 = 15_000\n",
    "elif tiket1 >=0:\n",
    "    keterangan1 = \"Tiket Anak anak\"\n",
    "    harga1 = 10_000\n",
    "total += harga1\n",
    "##############\n",
    "if tiket2 > 59:\n",
    "    keterangan2 = \"Tiket Lansia\"\n",
    "    harga2 = 0\n",
    "    total += harga\n",
    "elif tiket2 > 17:\n",
    "    keterangan2 = \"Tiket Dewasa\"\n",
    "    harga2 = 25_000\n",
    "elif tiket2 > 12:\n",
    "    keterangan2 = \"Tiket Remaja\"\n",
    "    harga2 = 15_000\n",
    "elif tiket2 >=0:\n",
    "    keterangan2 = \"Tiket Anak anak\"\n",
    "    harga2 = 10_000\n",
    "total += harga2\n",
    "#############\n",
    "if tiket3 > 59:\n",
    "    keterangan3 = \"Tiket Lansia\"\n",
    "    harga3 = 0\n",
    "    total += harga\n",
    "elif tiket3 > 17:\n",
    "    keterangan3 = \"Tiket Dewasa\"\n",
    "    harga3 = 25_000\n",
    "elif tiket3 > 12:\n",
    "    keterangan3 = \"Tiket Remaja\"\n",
    "    harga3 = 15_000\n",
    "elif tiket3>= 0:\n",
    "    keterangan3 = \"Tiket Anak anak\"\n",
    "    harga3 = 10_000\n",
    "total += harga3\n",
    "\n",
    "print(f\"tiket 1: {keterangan1}| harga{harga1}\")\n",
    "print(f\"tiket 2: {keterangan2}| harga{harga2}\")\n",
    "print(f\"tiket 3: {keterangan3}| harga{harga3}\")\n",
    "print(f\"total yang harus dibayar: {total}\")"
   ]
  },
  {
   "cell_type": "code",
   "execution_count": 44,
   "id": "e4b61562-cdf4-4b7d-bdc9-bdd3aff45266",
   "metadata": {},
   "outputs": [
    {
     "name": "stdin",
     "output_type": "stream",
     "text": [
      "Isikan Pembayaran UKT: 10000000\n",
      "Isikan Penghasilan ORTU: 6000000\n",
      "Isikan Nilai Rapor Siswa: 88\n"
     ]
    },
    {
     "name": "stdout",
     "output_type": "stream",
     "text": [
      "Uang UKT :10000000\n",
      "Nilai Rapor :88\n",
      "Penghasilan ORTU :6000000\n",
      "Beasiswa :Beasiswa 50%\n",
      "Total Bayar :10000000.0\n"
     ]
    }
   ],
   "source": [
    "ukt = int(input(\"Isikan Pembayaran UKT:\"))\n",
    "penghasilan = int(input(\"Isikan Penghasilan ORTU:\"))\n",
    "nilaiRapor = int(input(\"Isikan Nilai Rapor Siswa:\"))\n",
    "\n",
    "beasiswa = 0\n",
    "if nilaiRapor >= 90:\n",
    "    if penghasilan <5_000_000:\n",
    "        keterangan = \"Beasiswa Penuh\"\n",
    "if nilaiRapor >= 85:\n",
    "    if penghasilan <8_000_000:\n",
    "        keterangan = \"Beasiswa 50%\"\n",
    "else:\n",
    "    keterangan = \"Tidak Mendapatkan Beasiswa\"\n",
    "\n",
    "total = ukt - (ukt * (beasiswa/100))\n",
    "print(f\"Uang UKT :{ukt}\")\n",
    "print(f\"Nilai Rapor :{nilaiRapor}\")\n",
    "print(F\"Penghasilan ORTU :{penghasilan}\")\n",
    "print(F\"Beasiswa :{keterangan}\")\n",
    "print(F\"Total Bayar :{total}\")"
   ]
  },
  {
   "cell_type": "code",
   "execution_count": null,
   "id": "177186dd-4b6a-4869-b470-84b1cb13be70",
   "metadata": {},
   "outputs": [],
   "source": []
  },
  {
   "cell_type": "code",
   "execution_count": 5,
   "id": "821806e1-511c-4397-886f-21ffb19570ed",
   "metadata": {},
   "outputs": [
    {
     "name": "stdin",
     "output_type": "stream",
     "text": [
      "Isikan Jenis Kendaraan motor\n",
      "Isikan jam Masuk 4\n",
      "Isikan jam keluar 6\n"
     ]
    },
    {
     "name": "stdout",
     "output_type": "stream",
     "text": [
      "Total Biaya Parkir : 4000\n"
     ]
    }
   ],
   "source": [
    "jenis = input(\"Isikan Jenis Kendaraan\")\n",
    "jamMasuk = int(input(\"Isikan jam Masuk\"))\n",
    "jamKeluar = int(input(\"Isikan jam keluar\"))\n",
    "\n",
    "harga = 0\n",
    "total = 0\n",
    "tambahan = 0\n",
    "if jamMasuk >= jamKeluar:\n",
    "    print(\"Input Jam Tidak Valid\")\n",
    "else:\n",
    "    if jenis == \"motor\":\n",
    "        harga = 2000\n",
    "    elif jenis == \"Mobil\":\n",
    "        harga = 5000\n",
    "    else:\n",
    "        print(\"Jenis Kendaraann tidak ada\")\n",
    "        harga = 0\n",
    "lama = jamKeluar - jamMasuk\n",
    "if lama > 5:\n",
    "    tambahan = 10000\n",
    "else:\n",
    "    tambahan = 0\n",
    "    \n",
    "print(f\"Total Biaya Parkir : {lama * harga + tambahan}\")"
   ]
  },
  {
   "cell_type": "code",
   "execution_count": null,
   "id": "3135a019-c4be-40e2-953d-27d314774682",
   "metadata": {},
   "outputs": [],
   "source": []
  },
  {
   "cell_type": "code",
   "execution_count": 26,
   "id": "46b5e54e-e80b-400c-975a-05d8ff864a5d",
   "metadata": {},
   "outputs": [
    {
     "name": "stdin",
     "output_type": "stream",
     "text": [
      "masukan no punggung anda 24\n"
     ]
    },
    {
     "name": "stdout",
     "output_type": "stream",
     "text": [
      "no 24 posisi anda adalah defender dan keeper\n"
     ]
    }
   ],
   "source": [
    "nopung = int(input(\"masukan no punggung anda\"))\n",
    "if nopung % 2==0:\n",
    "    infol =\"attacker\"\n",
    "    if 50<= nopung <=100:\n",
    "        info1 = \"dan layak sebagai captain tim\"\n",
    "elif nopung %2==1:\n",
    "    info1 = \"defender\"\n",
    "if nopung >90:\n",
    "    info2 = \"playmaker\"\n",
    "if nopung %3==0 %5==0:\n",
    "    info2 = \"keeper\"\n",
    "else:\n",
    "    print(\"tidak valid\")\n",
    "print(f\"no {nopung} posisi anda adalah {info1} dan {info2}\")"
   ]
  },
  {
   "cell_type": "code",
   "execution_count": null,
   "id": "d26be5fb-e247-4315-a708-71a6de703d86",
   "metadata": {},
   "outputs": [],
   "source": []
  }
 ],
 "metadata": {
  "kernelspec": {
   "display_name": "Python [conda env:base] *",
   "language": "python",
   "name": "conda-base-py"
  },
  "language_info": {
   "codemirror_mode": {
    "name": "ipython",
    "version": 3
   },
   "file_extension": ".py",
   "mimetype": "text/x-python",
   "name": "python",
   "nbconvert_exporter": "python",
   "pygments_lexer": "ipython3",
   "version": "3.12.7"
  }
 },
 "nbformat": 4,
 "nbformat_minor": 5
}
